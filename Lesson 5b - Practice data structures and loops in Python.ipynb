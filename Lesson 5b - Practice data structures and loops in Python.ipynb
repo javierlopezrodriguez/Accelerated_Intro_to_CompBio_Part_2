{
 "cells": [
  {
   "cell_type": "markdown",
   "metadata": {},
   "source": [
    "# Practice data structures\n",
    "\n",
    "We will create a data structure to hold our Germplasm data (I have updated it to be a little bit more complex... now a germplasm may hold TWO alleles - i.e. one germplasm has connections to more than one gene)\n",
    "\n",
    "Represent these data in Python - create a **single variable** that contains all of this data (using lists and dictionaries).\n",
    "\n",
    "Create loops over that data structure that can print the three tables to the screen.\n",
    "\n",
    "\n",
    "\n"
   ]
  },
  {
   "cell_type": "markdown",
   "metadata": {},
   "source": [
    "\n",
    "\n",
    "<center>stock table</center>\n",
    "\n",
    "germplasm_id |  amount  |  date  |  location  \n",
    " --- | --- | --- | --- \n",
    " 2 |  5  | 10/5/2013 |  Room 2234  \n",
    " 1 | 9.8  | 12/1/2015 |  Room 998  \n",
    "\n",
    "\n",
    "-----------------------------\n",
    "\n",
    "\n",
    "<center>germplasm table</center>\n",
    "\n",
    "id |  taxonid  |  alleles | genes \n",
    " --- |--- | --- | ---\n",
    " 1 |  4150  | def-1 | DEF\n",
    " 2 | 3701  | ap3,  ag | AP3, AG\n",
    "  \n",
    "--------------------------------\n",
    "\n",
    "<center>gene table</center>\n",
    "\n",
    "  gene  |  gene_name  |  embl\n",
    " --- | ---  | --- \n",
    "  DEF  | Deficiens  | https://www.ebi.ac.uk/ena/data/view/AB516402\n",
    "  AP3  | Apetala3   |   https://www.ebi.ac.uk/ena/data/view/AF056541\n",
    "  AG  | Agamous   |   https://www.ebi.ac.uk/ena/data/view/AL161549\n",
    "  "
   ]
  },
  {
   "cell_type": "code",
   "execution_count": 10,
   "metadata": {
    "scrolled": true
   },
   "outputs": [
    {
     "name": "stdout",
     "output_type": "stream",
     "text": [
      "{2: {'germplasm': {'taxonid': 3701, 'alleles': ['ap3', 'ag'], 'genes': [{'gene': 'AP3', 'gene_name': 'Apetala3', 'embl': 'https://www.ebi.ac.uk/ena/data/view/AF056541'}, {'gene': 'AG', 'gene_name': 'Agamous', 'embl': 'https://www.ebi.ac.uk/ena/data/view/AL161549'}]}, 'amount': 5, 'date': '10/5/2013', 'location': 'Room 2234'}, 1: {'germplasm': {'taxonid': 4150, 'alleles': 'def-1', 'genes': {'gene': 'DEF', 'gene_name': 'Deficiens', 'embl': 'https://www.ebi.ac.uk/ena/data/view/AB516402'}}, 'amount': 9.8, 'date': '12/1/2015', 'location': 'Room 998'}}\n",
      "stock\n",
      "germplasm_id\tamount\tdate\tlocation\n",
      "2 \t 5 \t 10/5/2013 \t Room 2234\n",
      "1 \t 9.8 \t 12/1/2015 \t Room 998\n"
     ]
    }
   ],
   "source": [
    "# my try: # bastante bien pero me faltarían en los alelos y genes únicos hacerles listas de 1 elemento\n",
    "# para que todo sean listas\n",
    "\n",
    "gene_table = {\n",
    "    \"DEF\": {\"gene\":\"DEF\", \"gene_name\":\"Deficiens\", \"embl\":\"https://www.ebi.ac.uk/ena/data/view/AB516402\"},\n",
    "    \"AP3\": {\"gene\":\"AP3\", \"gene_name\":\"Apetala3\", \"embl\":\"https://www.ebi.ac.uk/ena/data/view/AF056541\"},\n",
    "    \"AG\": {\"gene\":\"AG\", \"gene_name\":\"Agamous\", \"embl\":\"https://www.ebi.ac.uk/ena/data/view/AL161549\"}\n",
    "}\n",
    "\n",
    "germplasm_table = {\n",
    "    1: {\"taxonid\": 4150, \"alleles\": \"def-1\", \"genes\": gene_table[\"DEF\"]},\n",
    "    2: {\"taxonid\": 3701, \"alleles\": [\"ap3\", \"ag\"], \"genes\": [gene_table[\"AP3\"], gene_table[\"AG\"]]}\n",
    "}\n",
    "\n",
    "stock_table = {\n",
    "    2: {\"germplasm\": germplasm_table[2], \"amount\": 5, \"date\": \"10/5/2013\", \"location\": \"Room 2234\"},\n",
    "    1: {\"germplasm\": germplasm_table[1], \"amount\": 9.8, \"date\": \"12/1/2015\", \"location\": \"Room 998\"}\n",
    "}\n",
    "\n",
    "print(stock_table) # contains everything\n",
    "\n",
    "# now the printing part:\n",
    "# stock:\n",
    "print(\"stock\")\n",
    "print(\"germplasm_id\\tamount\\tdate\\tlocation\")\n",
    "for stock_id, stock_value in stock_table.items():\n",
    "    print(stock_id, \"\\t\", stock_value[\"amount\"], \"\\t\", stock_value[\"date\"], \"\\t\", stock_value[\"location\"])\n",
    "    \n",
    "# me faltan las otras dos tablas pero uf\n"
   ]
  },
  {
   "cell_type": "markdown",
   "metadata": {},
   "source": [
    "The simplest way is thinking about the data as a list of dictionaries."
   ]
  },
  {
   "cell_type": "markdown",
   "metadata": {},
   "source": [
    "SIMPLE ANSWER (hidden below)"
   ]
  },
  {
   "cell_type": "markdown",
   "metadata": {},
   "source": [
    "More complex..."
   ]
  },
  {
   "cell_type": "markdown",
   "metadata": {},
   "source": [
    "Optimal"
   ]
  },
  {
   "cell_type": "code",
   "execution_count": 6,
   "metadata": {},
   "outputs": [
    {
     "name": "stdout",
     "output_type": "stream",
     "text": [
      "[{'gene': 'DEF', 'gene_name': 'Deficiens', 'embl': 'https://www.ebi.ac.uk/ena/data/view/AB516402'}, {'gene': 'AP3', 'gene_name': 'Apetala3', 'embl': 'https://www.ebi.ac.uk/ena/data/view/AF056541'}, {'gene': 'AG', 'gene_name': 'Agamous', 'embl': 'https://www.ebi.ac.uk/ena/data/view/AL161549'}]\n",
      "[{'id': 1, 'taxonid': 4150, 'alleles': ['def-1'], 'genes': ['DEF']}, {'id': 2, 'taxonid': 3710, 'alleles': ['ap3', 'ag'], 'genes': ['AP3', 'AG']}]\n",
      "[{'germplasm': 2, 'amount': 5, 'date': '10/5/2013', 'location': 'Room 2234'}, {'germplasm': 1, 'amount': 9.8, 'date': '12/1/2015', 'location': 'Room 998'}]\n"
     ]
    }
   ],
   "source": [
    "# simple\n",
    "\n",
    "# put your code here... take it one step at a time!\n",
    "# do just one table\n",
    "\n",
    "genes = []\n",
    "gene1 = {\"gene\": \"DEF\", \"gene_name\": \"Deficiens\", \"embl\": \"https://www.ebi.ac.uk/ena/data/view/AB516402\"}\n",
    "genes.append(gene1)\n",
    "gene2 = {\"gene\": \"AP3\", \"gene_name\": \"Apetala3\", \"embl\": \"https://www.ebi.ac.uk/ena/data/view/AF056541\"}\n",
    "genes.append(gene2)\n",
    "gene3 = {\"gene\": \"AG\", \"gene_name\": \"Agamous\", \"embl\": \"https://www.ebi.ac.uk/ena/data/view/AL161549\"}\n",
    "genes.append(gene3)\n",
    "\n",
    "print(genes)\n",
    "\n",
    "germplasms = []\n",
    "germplasm1 = {\"id\": 1, \"taxonid\": 4150, \"alleles\": [\"def-1\"], \"genes\": [\"DEF\"]}\n",
    "germplasms.append(germplasm1)\n",
    "germplasm2 = {\"id\": 2, \"taxonid\": 3710, \"alleles\": [\"ap3\", \"ag\"], \"genes\": [\"AP3\", \"AG\"]}\n",
    "germplasms.append(germplasm2)\n",
    "\n",
    "print(germplasms)\n",
    "\n",
    "\n",
    "stocks = []\n",
    "stock1 = {\"germplasm\": 2, \"amount\": 5, \"date\": \"10/5/2013\", \"location\": \"Room 2234\"}\n",
    "stocks.append(stock1)\n",
    "stock2 = {\"germplasm\": 1, \"amount\": 9.8, \"date\": \"12/1/2015\", \"location\": \"Room 998\"}\n",
    "stocks.append(stock2)\n",
    "\n",
    "print(stocks)\n"
   ]
  },
  {
   "cell_type": "code",
   "execution_count": null,
   "metadata": {},
   "outputs": [],
   "source": [
    "# more complex\n",
    "    \n",
    "    # put your code here... take it one step at a time!\n",
    "# do just one table\n",
    "genes = {}\n",
    "gene1 = {\"gene\": \"DEF\", \"gene_name\": \"Deficiens\", \"embl\": \"https://www.ebi.ac.uk/ena/data/view/AB516402\"}\n",
    "genes[\"DEF\"] = gene1\n",
    "gene2 = {\"gene\": \"AP3\", \"gene_name\": \"Apetala3\", \"embl\": \"https://www.ebi.ac.uk/ena/data/view/AF056541\"}\n",
    "genes[\"AP3\"] = gene2\n",
    "gene3 = {\"gene\": \"AG\", \"gene_name\": \"Agamous\", \"embl\": \"https://www.ebi.ac.uk/ena/data/view/AL161549\"}\n",
    "genes[\"AG\"] = gene3\n",
    "\n",
    "print(genes)\n",
    "\n",
    "\n",
    "germplasms = {}\n",
    "germplasm1 = {\"id\": 1, \"taxonid\": 4150, \"alleles\": [\"def-1\"], \"genes\": [\"DEF\"]} # using [\"DEF\"] is not optimal\n",
    "germplasms[1] = germplasm1\n",
    "germplasm2 = {\"id\": 2, \"taxonid\": 3710, \"alleles\": [\"ap3\", \"ag\"], \"genes\": [\"AP3\", \"AG\"]}\n",
    "germplasms[2] = germplasm2\n",
    "\n",
    "print(germplasms)\n",
    "\n",
    "\n",
    "stocks = {}\n",
    "stock1 = {\"germplasm\": 2, \"amount\": 5, \"date\": \"10/5/2013\", \"location\": \"Room 2234\"}\n",
    "stocks[1] = stock1\n",
    "stock2 = {\"germplasm\": 1, \"amount\": 9.8, \"date\": \"12/1/2015\", \"location\": \"Room 998\"}\n",
    "stocks[2] = stock2\n",
    "\n",
    "print(stocks)\n",
    "\n",
    "print(genes[\"DEF\"][\"embl\"])\n"
   ]
  },
  {
   "cell_type": "markdown",
   "metadata": {},
   "source": [
    "### Mira el optimal, mi idea iba bien! (Bueno creo que he hecho lo mismo pero in a different way)\n",
    "\n",
    "### Mira los bucles porque eso no me ha dado tiempo a pensarlo"
   ]
  },
  {
   "cell_type": "code",
   "execution_count": 9,
   "metadata": {},
   "outputs": [
    {
     "name": "stdout",
     "output_type": "stream",
     "text": [
      "location:  Room 2234\n",
      "germplasm taxon:  3710\n",
      "germplasm taxon:  https://www.ebi.ac.uk/ena/data/view/AF056541\n",
      "location:  Room 998\n",
      "germplasm taxon:  4150\n",
      "germplasm taxon:  https://www.ebi.ac.uk/ena/data/view/AB516402\n",
      "\n",
      "\n",
      "reaching into the objects...\n",
      "\n",
      "\n",
      "location:  Room 2234\n",
      "germplasm taxon:  3710\n",
      "Gene Name:  Apetala3  with embl url:  https://www.ebi.ac.uk/ena/data/view/AF056541\n",
      "Gene Name:  Agamous  with embl url:  https://www.ebi.ac.uk/ena/data/view/AL161549\n",
      "location:  Room 998\n",
      "germplasm taxon:  4150\n",
      "Gene Name:  Deficiens  with embl url:  https://www.ebi.ac.uk/ena/data/view/AB516402\n"
     ]
    }
   ],
   "source": [
    "# optimal\n",
    "\n",
    "# put your code here... take it one step at a time!\n",
    "# do just one table\n",
    "\n",
    "genes = {}\n",
    "gene = {\"gene\": \"DEF\", \"gene_name\": \"Deficiens\", \"embl\": \"https://www.ebi.ac.uk/ena/data/view/AB516402\"}\n",
    "genes[\"DEF\"] = gene\n",
    "gene = {\"gene\": \"AP3\", \"gene_name\": \"Apetala3\", \"embl\": \"https://www.ebi.ac.uk/ena/data/view/AF056541\"}\n",
    "genes[\"AP3\"] = gene\n",
    "gene = {\"gene\": \"AG\", \"gene_name\": \"Agamous\", \"embl\": \"https://www.ebi.ac.uk/ena/data/view/AL161549\"}\n",
    "genes[\"AG\"] = gene\n",
    "\n",
    "#print(genes)\n",
    "\n",
    "germplasms = {}\n",
    "germplasm = {\"id\": 1, \"taxonid\": 4150, \"alleles\": [\"def-1\"], \"genes\": [genes[\"DEF\"]]} #### aunque haya un elemento,\n",
    "#### haz una lista para que todo siempre sea igual!!!!!!!!\n",
    "germplasms[1] = germplasm\n",
    "germplasm = {\"id\": 2, \"taxonid\": 3710, \"alleles\": [\"ap3\", \"ag\"], \"genes\": [genes[\"AP3\"], genes[\"AG\"]]}\n",
    "germplasms[2] = germplasm\n",
    "\n",
    "#print(germplasms)\n",
    "\n",
    "stocks = {}\n",
    "stock = {\"germplasm\": germplasms[2], \"amount\": 5, \"date\": \"10/5/2013\", \"location\": \"Room 2234\"}\n",
    "stocks[1] = stock\n",
    "stock = {\"germplasm\": germplasms[1], \"amount\": 9.8, \"date\": \"12/1/2015\", \"location\": \"Room 998\"}\n",
    "stocks[2] = stock\n",
    "\n",
    "#print(stocks.keys())\n",
    "\n",
    "for s in stocks.keys():\n",
    "    print(\"location: \", stocks[s][\"location\"])\n",
    "    print(\"germplasm taxon: \",  stocks[s][\"germplasm\"][\"taxonid\"])\n",
    "    print(\"germplasm taxon: \",  stocks[s][\"germplasm\"][\"genes\"][0][\"embl\"])\n",
    "    \n",
    "print(\"\\n\\nreaching into the objects...\\n\\n\")\n",
    "for s in stocks.keys():\n",
    "    print(\"location: \", stocks[s][\"location\"])\n",
    "    print(\"germplasm taxon: \",  stocks[s][\"germplasm\"][\"taxonid\"])\n",
    "    for gene in stocks[s][\"germplasm\"][\"genes\"]:\n",
    "        print(\"Gene Name: \", gene[\"gene_name\"], \" with embl url: \", gene[\"embl\"])\n"
   ]
  },
  {
   "cell_type": "markdown",
   "metadata": {},
   "source": [
    "<span style=\"visibility:hidden;\">\n",
    "DEF = {'id': 'DEF', 'name': 'Deficiens', 'embl': 'http://AB123434'}\n",
    "AP3 = {'id': 'AP3', 'name': 'Apetala3', 'embl': 'http://AB123434'}\n",
    "AG = {'id': 'AG', 'name': 'Agamous', 'embl': 'http://AB123434'}\n",
    "gp1 = {'id': 1, 'taxon': 4150, 'alleles': ['def1'], 'genes': [DEF]}\n",
    "gp2 = {'id': 2, 'taxon': 4150, 'alleles': ['ap3', 'ag'], 'genes': [AP3, AG]}\n",
    "stock1 = {'germplasm': gp2, 'amount': 5, 'date': '10/5/2013', 'location': 'Room 2234' }\n",
    "stock2 = {'germplasm': gp1, 'amount': 9.8, 'date': '12/1/2015', 'location': 'Room 998' }\n",
    "database = [stock1, stock2]\n",
    "for stock in database:\n",
    "    print(stock['germplasm']['id'], \", \", stock['amount'],\",\",stock['date'],\",\",stock['location'])\n",
    "</span>"
   ]
  }
 ],
 "metadata": {
  "kernelspec": {
   "display_name": "Python 3",
   "language": "python",
   "name": "python3"
  },
  "language_info": {
   "codemirror_mode": {
    "name": "ipython",
    "version": 3
   },
   "file_extension": ".py",
   "mimetype": "text/x-python",
   "name": "python",
   "nbconvert_exporter": "python",
   "pygments_lexer": "ipython3",
   "version": "3.7.3"
  }
 },
 "nbformat": 4,
 "nbformat_minor": 2
}
